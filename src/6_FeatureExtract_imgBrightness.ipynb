{
 "cells": [
  {
   "cell_type": "markdown",
   "metadata": {},
   "source": [
    "# Extract Image Brightness"
   ]
  },
  {
   "cell_type": "code",
   "execution_count": 9,
   "metadata": {},
   "outputs": [],
   "source": [
    "import pandas as pd\n",
    "\n",
    "df = pd.read_csv(\"imageDF.csv\", sep=\";\", header = 0)\n",
    "\n",
    "# cast all columns of df to string\n",
    "df = df.astype(str)"
   ]
  },
  {
   "cell_type": "code",
   "execution_count": 13,
   "metadata": {},
   "outputs": [],
   "source": [
    "image_urls = df[\"image 1\"]\n",
    "\n",
    "#convert image_urls to list\n",
    "image_urls = image_urls.tolist()\n",
    "\n",
    "# get indices of the elements in image_urls which do not contain \"https\"\n",
    "indices = [i for i, s in enumerate(image_urls) if \"https\" not in s]\n",
    " \n",
    "# remove the elements in image_urls which do not contain \"https\"\n",
    "for index in sorted(indices, reverse=True):\n",
    "    del image_urls[index]\n"
   ]
  },
  {
   "cell_type": "code",
   "execution_count": 14,
   "metadata": {},
   "outputs": [],
   "source": [
    "from PIL import Image, ImageStat\n",
    "import requests\n",
    "from io import BytesIO\n",
    "headers = {\n",
    "    \"User-Agent\": \"Mozilla/5.0 (Windows NT 10.0; Win64; x64) AppleWebKit/537.36 (KHTML, like Gecko) Chrome/58.0.3029.110 Safari/537.3\"\n",
    "}\n",
    "\n",
    "def brightness(im_url):\n",
    "   response = requests.get(im_url, headers=headers)\n",
    "   if response.status_code == 200:\n",
    "      image_data = response.content\n",
    "      \n",
    "      image = Image.open(BytesIO(image_data)).convert('L')\n",
    "      stat = ImageStat.Stat(image)\n",
    "      return stat.mean[0]\n",
    "   else:\n",
    "        return None"
   ]
  },
  {
   "cell_type": "code",
   "execution_count": null,
   "metadata": {},
   "outputs": [],
   "source": [
    "from tqdm import tqdm\n",
    "from PIL import UnidentifiedImageError\n",
    "\n",
    "image_brightness = []\n",
    "for url in tqdm(image_urls):\n",
    "    try:\n",
    "        out = brightness(url)\n",
    "        image_brightness.append(out)\n",
    "    except UnidentifiedImageError:\n",
    "        image_brightness.append(None)\n",
    "        continue\n"
   ]
  },
  {
   "cell_type": "code",
   "execution_count": 60,
   "metadata": {},
   "outputs": [],
   "source": [
    "# add NaNs at indices where there are no images (based on the indices variable)\n",
    "for index in indices:\n",
    "    image_brightness.insert(index, \"\")"
   ]
  },
  {
   "cell_type": "code",
   "execution_count": null,
   "metadata": {},
   "outputs": [],
   "source": [
    "# add image brightness to df as column\n",
    "\n",
    "df[\"image brightness\"] = image_brightness"
   ]
  },
  {
   "cell_type": "code",
   "execution_count": 78,
   "metadata": {},
   "outputs": [],
   "source": [
    "# save the dataframe to a csv file\n",
    "df.to_csv(\"imageDF_brightness.csv\", sep=\";\", index=False)"
   ]
  },
  {
   "cell_type": "code",
   "execution_count": null,
   "metadata": {},
   "outputs": [],
   "source": [
    "# in google colab download the file\n",
    "#from google.colab import files\n",
    "#files.download(\"/content/imageDF1.csv\")"
   ]
  }
 ],
 "metadata": {
  "kernelspec": {
   "display_name": ".venv",
   "language": "python",
   "name": "python3"
  },
  "language_info": {
   "codemirror_mode": {
    "name": "ipython",
    "version": 3
   },
   "file_extension": ".py",
   "mimetype": "text/x-python",
   "name": "python",
   "nbconvert_exporter": "python",
   "pygments_lexer": "ipython3",
   "version": "3.9.7"
  }
 },
 "nbformat": 4,
 "nbformat_minor": 2
}
