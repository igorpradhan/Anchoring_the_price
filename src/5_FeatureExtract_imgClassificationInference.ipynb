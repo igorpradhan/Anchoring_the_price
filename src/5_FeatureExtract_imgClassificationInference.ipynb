{
 "cells": [
  {
   "cell_type": "markdown",
   "metadata": {},
   "source": [
    "Script to use the finetuned model to classify the first three images of all boats"
   ]
  },
  {
   "cell_type": "code",
   "execution_count": 2,
   "metadata": {},
   "outputs": [],
   "source": [
    "from transformers import pipeline\n",
    "import pandas as pd\n",
    "from IPython.display import Image\n",
    "from PIL import Image\n",
    "\n",
    "\n",
    "df = pd.read_csv(\"imageDF.csv\", sep=\";\", header = 0)\n",
    "\n",
    "# cast all columns of df to string\n",
    "df = df.astype(str)"
   ]
  },
  {
   "cell_type": "markdown",
   "metadata": {},
   "source": [
    "replace the number in the column name to get the respective image per boat"
   ]
  },
  {
   "cell_type": "code",
   "execution_count": null,
   "metadata": {},
   "outputs": [],
   "source": [
    "image_urls = df[\"image 1\"]\n",
    "\n",
    "#convert image_urls to list\n",
    "image_urls = image_urls.tolist()\n",
    "\n",
    "# get indices of the elements in image_urls which do not contain \"https\"\n",
    "indices = [i for i, s in enumerate(image_urls) if \"https\" not in s]\n",
    " \n",
    "# remove the elements in image_urls which do not contain \"https\"\n",
    "for index in sorted(indices, reverse=True):\n",
    "    del image_urls[index]"
   ]
  },
  {
   "cell_type": "code",
   "execution_count": null,
   "metadata": {},
   "outputs": [],
   "source": [
    "from huggingface_hub import notebook_login\n",
    "\n",
    "notebook_login()"
   ]
  },
  {
   "cell_type": "code",
   "execution_count": 25,
   "metadata": {},
   "outputs": [],
   "source": [
    "from transformers import pipeline\n",
    "predictor = pipeline(\"image-classification\", model=\"henry-heppe/finetuned_convnextv2\", image_processor=\"facebook/convnextv2-tiny-1k-224\")"
   ]
  },
  {
   "cell_type": "code",
   "execution_count": null,
   "metadata": {},
   "outputs": [],
   "source": [
    "from tqdm import tqdm\n",
    "from PIL import UnidentifiedImageError\n",
    "\n",
    "image_class = []\n",
    "for url in tqdm(image_urls):\n",
    "    try:\n",
    "        out = predictor(url)\n",
    "        image_class.append(out[0][\"label\"])\n",
    "    except UnidentifiedImageError:\n",
    "        image_class.append(\"Error\")\n",
    "        continue"
   ]
  },
  {
   "cell_type": "code",
   "execution_count": 60,
   "metadata": {},
   "outputs": [],
   "source": [
    "# add NaNs at indices where there are no images (based on the indices variable)\n",
    "for index in indices:\n",
    "    image_class.insert(index, \"\")"
   ]
  },
  {
   "cell_type": "code",
   "execution_count": null,
   "metadata": {},
   "outputs": [],
   "source": [
    "# add image class to df as column\n",
    "iteration = str(1)\n",
    "df = df.head(24)\n",
    "df[\"image class\" + iteration] = image_class"
   ]
  },
  {
   "cell_type": "code",
   "execution_count": 78,
   "metadata": {},
   "outputs": [],
   "source": [
    "# save the dataframe to a csv file\n",
    "df.to_csv(\"imageDF1.csv\", sep=\";\", index=False)"
   ]
  },
  {
   "cell_type": "code",
   "execution_count": null,
   "metadata": {},
   "outputs": [],
   "source": [
    "# in google colab download the file\n",
    "#from google.colab import files\n",
    "#files.download(\"/content/imageDF1.csv\")"
   ]
  }
 ],
 "metadata": {
  "kernelspec": {
   "display_name": ".venv",
   "language": "python",
   "name": "python3"
  },
  "language_info": {
   "codemirror_mode": {
    "name": "ipython",
    "version": 3
   },
   "file_extension": ".py",
   "mimetype": "text/x-python",
   "name": "python",
   "nbconvert_exporter": "python",
   "pygments_lexer": "ipython3",
   "version": "3.9.7"
  }
 },
 "nbformat": 4,
 "nbformat_minor": 2
}
