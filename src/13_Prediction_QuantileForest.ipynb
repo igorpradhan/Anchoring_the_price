{
 "cells": [
  {
   "cell_type": "code",
   "execution_count": 6,
   "metadata": {},
   "outputs": [],
   "source": [
    "#All imports that are needed\n",
    "import quantile_forest\n",
    "from quantile_forest import RandomForestQuantileRegressor\n",
    "from sklearn import datasets\n",
    "import pandas as pd\n",
    "import numpy as np\n",
    "from sklearn.model_selection import train_test_split\n",
    "from sklearn.metrics import mean_squared_error, r2_score, mean_absolute_error\n",
    "from sklearn.model_selection import KFold"
   ]
  },
  {
   "cell_type": "code",
   "execution_count": 7,
   "metadata": {},
   "outputs": [],
   "source": [
    "boatsDF = pd.read_csv(\"C:/Users/livin/OneDrive/University/Y3; Block 4; Seminar ML/Actual Research/Modelling/Data/3_df_man_PCA.csv\",delimiter=\",\",index_col=0)"
   ]
  },
  {
   "cell_type": "code",
   "execution_count": 8,
   "metadata": {},
   "outputs": [],
   "source": [
    "randomSeed = 0"
   ]
  },
  {
   "cell_type": "code",
   "execution_count": 9,
   "metadata": {},
   "outputs": [],
   "source": [
    "X = boatsDF.drop(['Price'], axis=1)\n",
    "y = boatsDF['Price']"
   ]
  },
  {
   "cell_type": "code",
   "execution_count": 10,
   "metadata": {},
   "outputs": [
    {
     "name": "stderr",
     "output_type": "stream",
     "text": [
      "c:\\Users\\livin\\AppData\\Local\\Programs\\Python\\Python311\\Lib\\site-packages\\sklearn\\base.py:486: UserWarning: X has feature names, but RandomForestQuantileRegressor was fitted without feature names\n",
      "  warnings.warn(\n",
      "c:\\Users\\livin\\AppData\\Local\\Programs\\Python\\Python311\\Lib\\site-packages\\sklearn\\base.py:486: UserWarning: X has feature names, but RandomForestQuantileRegressor was fitted without feature names\n",
      "  warnings.warn(\n",
      "c:\\Users\\livin\\AppData\\Local\\Programs\\Python\\Python311\\Lib\\site-packages\\sklearn\\base.py:486: UserWarning: X has feature names, but RandomForestQuantileRegressor was fitted without feature names\n",
      "  warnings.warn(\n",
      "c:\\Users\\livin\\AppData\\Local\\Programs\\Python\\Python311\\Lib\\site-packages\\sklearn\\base.py:486: UserWarning: X has feature names, but RandomForestQuantileRegressor was fitted without feature names\n",
      "  warnings.warn(\n"
     ]
    },
    {
     "name": "stdout",
     "output_type": "stream",
     "text": [
      "List RMSE: [38841.58807970489, 39455.45716552727, 42776.50184134314, 41689.81662369456, 42547.88951997122]\n",
      "List MAE: [22066.371922087466, 22180.442851892687, 23720.810731348767, 23564.788602941175, 23709.288235294116]\n",
      "95%-percentile range: [126834.13518926858, 125471.0206082322, 127170.66443403154, 130821.36841911757, 127763.60241727934]\n",
      "RMSE mean: 41062.25064604821\n",
      "MAE mean: 23048.340468712842\n",
      "95%-percentile range:127612.15821358585\n"
     ]
    },
    {
     "name": "stderr",
     "output_type": "stream",
     "text": [
      "c:\\Users\\livin\\AppData\\Local\\Programs\\Python\\Python311\\Lib\\site-packages\\sklearn\\base.py:486: UserWarning: X has feature names, but RandomForestQuantileRegressor was fitted without feature names\n",
      "  warnings.warn(\n"
     ]
    }
   ],
   "source": [
    "rmse_list = []\n",
    "mae_list = []\n",
    "quartile_list = []\n",
    "\n",
    "kFold = KFold(n_splits=5, shuffle=True, random_state= randomSeed)\n",
    "\n",
    "for train_index, test_index in kFold.split(X):\n",
    "    X_train, X_test = X.iloc[train_index], X.iloc[test_index]\n",
    "    y_train, y_test = y.iloc[train_index], y.iloc[test_index]\n",
    "\n",
    "    model = RandomForestQuantileRegressor()\n",
    "    model.fit(X_train, y_train)\n",
    "\n",
    "    predictions = model.predict(X_test, quantiles=[0.025, 0.5, 0.975])\n",
    "    actual_pred = predictions[:,1]\n",
    "\n",
    "    mse = mean_squared_error(y_test, actual_pred)\n",
    "    rmse_list.append(np.sqrt(mse))\n",
    "    mae_list.append(mean_absolute_error(y_test, actual_pred))\n",
    "    quartile_list.append(np.mean(predictions[:,2] - predictions[:,0]))\n",
    "\n",
    "print(f\"List RMSE: {rmse_list}\")\n",
    "print(f\"List MAE: {mae_list}\")\n",
    "print(f\"95%-percentile range: {quartile_list}\")\n",
    "\n",
    "mean_RMSE = np.mean(rmse_list)\n",
    "mean_MAE = np.mean(mae_list)\n",
    "mean_quartile_range = np.mean(quartile_list)\n",
    "\n",
    "print(f\"RMSE mean: {mean_RMSE}\")\n",
    "print(f\"MAE mean: {mean_MAE}\")\n",
    "print(f\"95%-percentile range:{mean_quartile_range}\")"
   ]
  }
 ],
 "metadata": {
  "kernelspec": {
   "display_name": "Python 3",
   "language": "python",
   "name": "python3"
  },
  "language_info": {
   "codemirror_mode": {
    "name": "ipython",
    "version": 3
   },
   "file_extension": ".py",
   "mimetype": "text/x-python",
   "name": "python",
   "nbconvert_exporter": "python",
   "pygments_lexer": "ipython3",
   "version": "3.11.2"
  }
 },
 "nbformat": 4,
 "nbformat_minor": 2
}
