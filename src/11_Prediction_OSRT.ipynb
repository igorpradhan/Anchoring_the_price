{
 "cells": [
  {
   "cell_type": "code",
   "execution_count": null,
   "metadata": {},
   "outputs": [],
   "source": [
    "#Adapted from example.py from the OSRT Package for Python\n",
    "#Import the package\n",
    "import osrt as OSRT\n",
    "\n",
    "#These are all things also imported in the example\n",
    "import pandas as pd\n",
    "import numpy as np\n",
    "import sklearn as sk\n",
    "import time\n",
    "import pathlib\n",
    "import math\n",
    "from sklearn.ensemble import GradientBoostingRegressor\n",
    "from sklearn.model_selection import train_test_split\n",
    "\n",
    "#Imports things directly from the model. \n",
    "#Note here that this looks slightly different than the example code (integrated into the model)\n",
    "from osrt.model.osrt import OSRT\n",
    "from osrt.model.threshold_guess import compute_thresholds\n",
    "from osrt.model.threshold_guess import cut\n",
    "\n",
    "from sklearn.metrics import mean_squared_error, r2_score, mean_absolute_error\n",
    "from sklearn.model_selection import KFold"
   ]
  },
  {
   "cell_type": "code",
   "execution_count": null,
   "metadata": {},
   "outputs": [],
   "source": [
    "boatsDF = pd.read_csv(\"C:/Users/livin/OneDrive/University/Y3; Block 4; Seminar ML/Actual Research/Modelling/Data/2_df_man.csv\",delimiter=\",\",index_col=0)"
   ]
  },
  {
   "cell_type": "code",
   "execution_count": null,
   "metadata": {},
   "outputs": [],
   "source": [
    "randomSeed = 0"
   ]
  },
  {
   "cell_type": "code",
   "execution_count": null,
   "metadata": {},
   "outputs": [],
   "source": [
    "X = boatsDF.drop(['Price'], axis=1)\n",
    "y = boatsDF['Price']"
   ]
  },
  {
   "cell_type": "code",
   "execution_count": null,
   "metadata": {},
   "outputs": [],
   "source": [
    "# configuration of the OSRT model -> see specification for individual functions\n",
    "config = {\n",
    "    #prune pairs using subset comparison\n",
    "    \"feature_exchange\": False,\n",
    "\n",
    "    #similar for above, continuous of feature\n",
    "    \"continuous_feature_exchange\": False,\n",
    "\n",
    "    #Adds a penalty for additional complexity \n",
    "    \"regularization\": 0.05,\n",
    "\n",
    "    #Sets the maximum depth for the tree\n",
    "    \"depth_budget\": 0,\n",
    "\n",
    "    #max number of models extracted -> 0 = no limit\n",
    "    \"model_limit\": 1,\n",
    "\n",
    "    #time for model to run -> 0 = no limit\n",
    "    \"time_limit\": 0,\n",
    "\n",
    "    #S.f. considered in the split\n",
    "    \"precision_limit\": 0,\n",
    "\n",
    "    #To do with processing speed -> how many threads are used\n",
    "    \"worker_limit\": 6,\n",
    "\n",
    "    #Similar features -> tree can use bounds for first, leverage for 2nd\n",
    "    #Can slow down algorithm (see Lin 2022), but faster here\n",
    "    \"similar_support\": True,\n",
    "\n",
    "    #Use MSE -> L2, use MAE -> L1\n",
    "    \"metric\": \"L2\",\n",
    "\n",
    "    #Weights for samples in training data\n",
    "    \"weights\": [],\n",
    "\n",
    "    #print config, process, results to standard\n",
    "    \"verbose\": False,\n",
    "\n",
    "    #print diagnostic of trace\n",
    "    \"diagnostics\": True,\n",
    "}"
   ]
  },
  {
   "cell_type": "code",
   "execution_count": null,
   "metadata": {},
   "outputs": [],
   "source": [
    "rmse_list = []\n",
    "mae_list = []\n",
    "\n",
    "kFold = KFold(n_splits=5, shuffle=True, random_state= randomSeed)\n",
    "\n",
    "for train_index, test_index in kFold.split(X):\n",
    "    X_train, X_test = X.iloc[train_index], X.iloc[test_index]\n",
    "    y_train, y_test = y.iloc[train_index], y.iloc[test_index]\n",
    "\n",
    "    n_est = 40\n",
    "    max_depth = 1\n",
    "    X_train, thresholds, header, threshold_guess_time = compute_thresholds(X_train, y_train, n_est, max_depth)\n",
    "\n",
    "    model = OSRT(config)\n",
    "    model.fit(X_train, y_train)\n",
    "\n",
    "    print(\"evaluate the model, extracting tree and scores\", flush=True)\n",
    "\n",
    "    # get the results\n",
    "    train_acc = model.score(X_train, y_train)\n",
    "    n_leaves = model.leaves()\n",
    "    n_nodes = model.nodes()\n",
    "    time = model.time\n",
    "\n",
    "    print(\"Model training time: {}\".format(time))\n",
    "    print(\"Training score: {}\".format(train_acc))\n",
    "    print(\"# of leaves: {}\".format(n_leaves))\n",
    "    print(model.tree)\n",
    "\n",
    "    X_test = cut(X_test, thresholds)\n",
    "\n",
    "    predictions = model.predict(X_test)\n",
    "\n",
    "    mse = mean_squared_error(y_test, predictions)\n",
    "    rmse_list.append(np.sqrt(mse))\n",
    "    mae_list.append(mean_absolute_error(y_test, predictions))\n",
    "\n",
    "print(f\"List RMSE: {rmse_list}\")\n",
    "print(f\"List MAE: {mae_list}\")\n",
    "\n",
    "mean_RMSE = np.mean(rmse_list)\n",
    "mean_MAE = np.mean(mae_list)\n",
    "\n",
    "print(f\"RMSE mean: {mean_RMSE}\")\n",
    "print(f\"MAE mean: {mean_MAE}\")\n"
   ]
  }
 ],
 "metadata": {
  "kernelspec": {
   "display_name": "Python 3",
   "language": "python",
   "name": "python3"
  },
  "language_info": {
   "codemirror_mode": {
    "name": "ipython",
    "version": 3
   },
   "file_extension": ".py",
   "mimetype": "text/x-python",
   "name": "python",
   "nbconvert_exporter": "python",
   "pygments_lexer": "ipython3",
   "version": "3.11.2"
  }
 },
 "nbformat": 4,
 "nbformat_minor": 2
}
