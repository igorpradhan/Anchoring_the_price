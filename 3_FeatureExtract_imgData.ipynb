{
 "cells": [
  {
   "cell_type": "markdown",
   "metadata": {},
   "source": [
    "Script to collect training data, merge results from the inference runs and collect extended test set"
   ]
  },
  {
   "cell_type": "code",
   "execution_count": 32,
   "metadata": {},
   "outputs": [
    {
     "name": "stderr",
     "output_type": "stream",
     "text": [
      "C:\\Users\\a1224\\AppData\\Local\\Temp\\ipykernel_11844\\3990344851.py:11: DtypeWarning: Columns (130,134,140,147,152,153) have mixed types. Specify dtype option on import or set low_memory=False.\n",
      "  df = pd.read_csv(\"full_data_files/merged_df.csv\")\n"
     ]
    },
    {
     "name": "stdout",
     "output_type": "stream",
     "text": [
      "1000\n"
     ]
    },
    {
     "data": {
      "text/plain": [
       "14315"
      ]
     },
     "execution_count": 32,
     "metadata": {},
     "output_type": "execute_result"
    }
   ],
   "source": [
    "from transformers import pipeline\n",
    "import csv\n",
    "import pandas as pd\n",
    "from IPython.display import Image\n",
    "from PIL import Image\n",
    "import requests\n",
    "from io import BytesIO\n",
    "import time\n",
    "\n",
    "\n",
    "df = pd.read_csv(\"full_data_files/merged_df.csv\")\n",
    "#get column \"image 1\" from df\n",
    "image_urls = df[\"image 1\"].unique()\n",
    "image_urls = [url for url in image_urls if url != 'N']\n",
    "#retain only the first 1000 image_urls\n",
    "image_urls = image_urls[:1000]\n",
    "print(len(image_urls))\n",
    "len(df[\"image 1\"].unique())\n",
    "\n",
    "\n",
    "\n"
   ]
  },
  {
   "cell_type": "markdown",
   "metadata": {},
   "source": [
    "Download images"
   ]
  },
  {
   "cell_type": "code",
   "execution_count": 14,
   "metadata": {},
   "outputs": [],
   "source": [
    "\n",
    "\n",
    "# Specify the user-agent header\n",
    "headers = {\n",
    "    \"User-Agent\": \"Mozilla/5.0 (Windows NT 10.0; Win64; x64) AppleWebKit/537.36 (KHTML, like Gecko) Chrome/58.0.3029.110 Safari/537.3\"\n",
    "}\n",
    "k = 0\n",
    "\n",
    "for url in image_urls:\n",
    "    time.sleep(1)\n",
    "    response = requests.get(url, headers=headers)\n",
    "    if response.status_code == 200:\n",
    "        image_data = response.content\n",
    "        # Create a PIL Image object from the image data\n",
    "        image = Image.open(BytesIO(image_data))\n",
    "        # Save the image to the images folder\n",
    "        image.save(\"images/boat_\" + str(k) + \".jpg\")\n",
    "        k = k + 1\n",
    "    else:\n",
    "        print(\"Failed to retrieve the image.\")\n",
    "    \n"
   ]
  },
  {
   "cell_type": "markdown",
   "metadata": {},
   "source": [
    "Then import images as dataset from folder structure"
   ]
  },
  {
   "cell_type": "markdown",
   "metadata": {},
   "source": [
    "# Merge all csv files with image features from inference into one"
   ]
  },
  {
   "cell_type": "code",
   "execution_count": 16,
   "metadata": {},
   "outputs": [],
   "source": [
    "import pandas as pd\n",
    "df1 = pd.read_csv(\"imageDF1.csv\", sep=\";\", header=0)[\"image class1\"]\n",
    "df2 = pd.read_csv(\"imageDF2.csv\", sep=\";\", header=0)[\"image class2\"]\n",
    "df3 = pd.read_csv(\"imageDF3.csv\", sep=\";\", header=0)[\"image class3\"]\n",
    "df_bright = pd.read_csv(\"imageDF_brightness.csv\", sep=\";\", header=0)[\"image brightness\"]"
   ]
  },
  {
   "cell_type": "code",
   "execution_count": 17,
   "metadata": {},
   "outputs": [],
   "source": [
    "# merge all 4 columns into one dataframe\n",
    "df = pd.concat([df1, df2, df3, df_bright], axis=1)"
   ]
  },
  {
   "cell_type": "code",
   "execution_count": 22,
   "metadata": {},
   "outputs": [],
   "source": [
    "# make a new column \"img_water\" which takes value 1 if on of the first 3 columns is \"water\" and 0 otherwise\n",
    "df[\"image water\"] = df.apply(lambda x: 1 if x[\"image class1\"] == \"water\" or x[\"image class2\"] == \"water\" or x[\"image class3\"] == \"water\" else 0, axis=1)\n",
    "df[\"image land\"] = df.apply(lambda x: 1 if x[\"image class1\"] == \"land\" or x[\"image class2\"] == \"land\" or x[\"image class3\"] == \"land\" else 0, axis=1)\n",
    "#df[\"both\"] = df.apply(lambda x: x[\"image water\"] * x[\"image land\"], axis=1)"
   ]
  },
  {
   "cell_type": "markdown",
   "metadata": {},
   "source": [
    "Export the complete dataframe to csv"
   ]
  },
  {
   "cell_type": "code",
   "execution_count": 24,
   "metadata": {},
   "outputs": [],
   "source": [
    "# write the dataframe to a csv file\n",
    "df[[\"image water\", \"image land\", \"image brightness\"]].to_csv(\"image_features.csv\", sep=\";\", index=False)"
   ]
  },
  {
   "cell_type": "markdown",
   "metadata": {},
   "source": [
    "# Download image classification extended test set"
   ]
  },
  {
   "cell_type": "code",
   "execution_count": 35,
   "metadata": {},
   "outputs": [],
   "source": [
    "df = pd.read_csv(\"imageDF1.csv\", sep=\";\", header=0)\n",
    "#turn df into strings\n",
    "df = df.astype(str)"
   ]
  },
  {
   "cell_type": "code",
   "execution_count": 36,
   "metadata": {},
   "outputs": [],
   "source": [
    "\n",
    "\n",
    "#get column \"image 1\" from df\n",
    "image_urls = df[\"image 2\"].unique()\n",
    "image_urls = [url for url in image_urls if 'https' in url]\n",
    "#retain only the first 1000 image_urls\n",
    "image_urls = image_urls[:200]\n",
    "\n"
   ]
  },
  {
   "cell_type": "code",
   "execution_count": 37,
   "metadata": {},
   "outputs": [],
   "source": [
    "# Specify the user-agent header\n",
    "headers = {\n",
    "    \"User-Agent\": \"Mozilla/5.0 (Windows NT 10.0; Win64; x64) AppleWebKit/537.36 (KHTML, like Gecko) Chrome/58.0.3029.110 Safari/537.3\"\n",
    "}\n",
    "k = 0\n",
    "\n",
    "for url in image_urls:\n",
    "    response = requests.get(url, headers=headers)\n",
    "    if response.status_code == 200:\n",
    "        image_data = response.content\n",
    "        # Create a PIL Image object from the image data\n",
    "        image = Image.open(BytesIO(image_data))\n",
    "        # Save the image to the images folder\n",
    "        image.save(\"imageTestSet/water/boat_\" + str(k) + \".jpg\")\n",
    "        k = k + 1\n",
    "    else:\n",
    "        print(\"Failed to retrieve the image.\")"
   ]
  }
 ],
 "metadata": {
  "kernelspec": {
   "display_name": ".venv",
   "language": "python",
   "name": "python3"
  },
  "language_info": {
   "codemirror_mode": {
    "name": "ipython",
    "version": 3
   },
   "file_extension": ".py",
   "mimetype": "text/x-python",
   "name": "python",
   "nbconvert_exporter": "python",
   "pygments_lexer": "ipython3",
   "version": "3.9.7"
  }
 },
 "nbformat": 4,
 "nbformat_minor": 2
}
