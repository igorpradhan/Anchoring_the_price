{
  "nbformat": 4,
  "nbformat_minor": 0,
  "metadata": {
    "colab": {
      "provenance": [],
      "collapsed_sections": [
        "_GrjpzrQKCPS",
        "sbzegPQFPHp_",
        "6Mc5BhNuMGB9",
        "ZAOf97u1KQRr",
        "cFsC7EBLXL4F",
        "NmA-U49zX_Cd",
        "6pQym0Vjw1vG"
      ],
      "authorship_tag": "ABX9TyPFwdzSDxwzZsBYf9cBST8o",
      "include_colab_link": true
    },
    "kernelspec": {
      "name": "python3",
      "display_name": "Python 3"
    },
    "language_info": {
      "name": "python"
    }
  },
  "cells": [
    {
      "cell_type": "markdown",
      "metadata": {
        "id": "view-in-github",
        "colab_type": "text"
      },
      "source": [
        "<a href=\"https://colab.research.google.com/github/henry-heppe/SeminarML/blob/main/boatsProcessingInclNAN.ipynb\" target=\"_parent\"><img src=\"https://colab.research.google.com/assets/colab-badge.svg\" alt=\"Open In Colab\"/></a>"
      ]
    },
    {
      "cell_type": "markdown",
      "source": [
        "# Initialize DataFrame"
      ],
      "metadata": {
        "id": "VKxkJtpbORZi"
      }
    },
    {
      "cell_type": "code",
      "execution_count": null,
      "metadata": {
        "id": "MVJNP_cdbGOa"
      },
      "outputs": [],
      "source": [
        "import pandas as pd\n",
        "from datetime import datetime\n",
        "import numpy as np\n",
        "import geocoder\n",
        "import ast"
      ]
    },
    {
      "cell_type": "code",
      "source": [
        "currentYear = datetime.now().year"
      ],
      "metadata": {
        "id": "t2SYlVjPYddm"
      },
      "execution_count": null,
      "outputs": []
    },
    {
      "cell_type": "code",
      "source": [
        "boatsDF = pd.read_csv('boatsData.csv')"
      ],
      "metadata": {
        "id": "358lR90xbQl5",
        "colab": {
          "base_uri": "https://localhost:8080/"
        },
        "outputId": "735c1d52-6846-4bef-d9b3-375d6b6c1bb9"
      },
      "execution_count": null,
      "outputs": [
        {
          "output_type": "stream",
          "name": "stderr",
          "text": [
            "<ipython-input-126-863b05290d90>:1: DtypeWarning: Columns (126,127,130,131,139,180,181,182) have mixed types. Specify dtype option on import or set low_memory=False.\n",
            "  boatsDF = pd.read_csv('boatsData.csv')\n"
          ]
        }
      ]
    },
    {
      "cell_type": "code",
      "source": [
        "print(boatsDF.head())"
      ],
      "metadata": {
        "colab": {
          "base_uri": "https://localhost:8080/"
        },
        "id": "QwciEhNUbavM",
        "outputId": "9128855c-9cc3-4f01-9e00-923dce9a3a38"
      },
      "execution_count": null,
      "outputs": [
        {
          "output_type": "stream",
          "name": "stdout",
          "text": [
            "       ID Original price                            TAXES PAID  \\\n",
            "0  Boat_1      EUR 9,990                         EU taxes paid   \n",
            "1  Boat_2     EUR 28,590                 Basis for Negotiation   \n",
            "2  Boat_3     EUR 65,000  Basis for Negotiation, EU taxes paid   \n",
            "3  Boat_4    EUR 225,000  Basis for Negotiation, EU taxes paid   \n",
            "4  Boat_5     EUR 72,500                                   NaN   \n",
            "\n",
            "            Price  Year Built            Condition     Length x Beam  \\\n",
            "0    apx. £ 8,560      1961.0       good condition   7.75 m x 2.50 m   \n",
            "1   apx. £ 24,500      2016.0       good condition   4.80 m x 2.15 m   \n",
            "2   apx. £ 55,700      1997.0  very good condition  11.85 m x 3.85 m   \n",
            "3  apx. £ 192,600      2010.0       good condition  12.00 m x 3.99 m   \n",
            "4   apx. £ 62,100      2012.0       good condition   9.27 m x 3.10 m   \n",
            "\n",
            "         Draught Displacement CE Design Category  ...  \\\n",
            "0  1.50 - 0.35 m     1'100 kg        C - Inshore  ...   \n",
            "1         0.30 m       725 kg        C - Inshore  ...   \n",
            "2         1.85 m     7'200 kg          A - Ocean  ...   \n",
            "3         1.10 m     9'000 kg        C - Inshore  ...   \n",
            "4         1.02 m     4'900 kg                NaN  ...   \n",
            "\n",
            "                                             image 4  \\\n",
            "0  https://static.b24.co/fotos/xlarge/580125-48af...   \n",
            "1  https://static.b24.co/fotos/xlarge/578672-a40d...   \n",
            "2  https://static.b24.co/fotos/xlarge/578731-8a48...   \n",
            "3  https://static.b24.co/fotos/xlarge/519539-e2a4...   \n",
            "4  https://static.b24.co/fotos/xlarge/581213-a0d3...   \n",
            "\n",
            "                                             image 5  \\\n",
            "0  https://static.b24.co/fotos/xlarge/580125-3804...   \n",
            "1  https://static.b24.co/fotos/xlarge/578672-a2c6...   \n",
            "2  https://static.b24.co/fotos/xlarge/578731-04a3...   \n",
            "3  https://static.b24.co/fotos/xlarge/519539-d2c4...   \n",
            "4  https://static.b24.co/fotos/xlarge/581213-1a49...   \n",
            "\n",
            "                                             image 6  \\\n",
            "0  https://static.b24.co/fotos/xlarge/580125-00c7...   \n",
            "1  https://static.b24.co/fotos/xlarge/578672-ca05...   \n",
            "2  https://static.b24.co/fotos/xlarge/578731-7cf1...   \n",
            "3  https://static.b24.co/fotos/xlarge/519539-6f9f...   \n",
            "4  https://static.b24.co/fotos/xlarge/581213-f49e...   \n",
            "\n",
            "                                             image 7  \\\n",
            "0  https://static.b24.co/fotos/xlarge/580125-9f64...   \n",
            "1  https://static.b24.co/fotos/xlarge/578672-05f5...   \n",
            "2  https://static.b24.co/fotos/xlarge/578731-2046...   \n",
            "3  https://static.b24.co/fotos/xlarge/519539-cfd9...   \n",
            "4  https://static.b24.co/fotos/xlarge/581213-c8a3...   \n",
            "\n",
            "                                             image 8  \\\n",
            "0  https://static.b24.co/fotos/xlarge/580125-7334...   \n",
            "1  https://static.b24.co/fotos/xlarge/578672-10e2...   \n",
            "2  https://static.b24.co/fotos/xlarge/578731-4e8f...   \n",
            "3  https://static.b24.co/fotos/xlarge/519539-7c9e...   \n",
            "4  https://static.b24.co/fotos/xlarge/581213-e682...   \n",
            "\n",
            "                                             image 9  \\\n",
            "0  https://static.b24.co/fotos/xlarge/580125-19cf...   \n",
            "1  https://static.b24.co/fotos/xlarge/578672-feaf...   \n",
            "2  https://static.b24.co/fotos/xlarge/578731-4686...   \n",
            "3  https://static.b24.co/fotos/xlarge/519539-7eda...   \n",
            "4  https://static.b24.co/fotos/xlarge/581213-0efa...   \n",
            "\n",
            "                                            image 10  \\\n",
            "0  https://static.b24.co/fotos/xlarge/580125-07c1...   \n",
            "1  https://static.b24.co/fotos/xlarge/578672-515f...   \n",
            "2  https://static.b24.co/fotos/xlarge/578731-a43e...   \n",
            "3  https://static.b24.co/fotos/xlarge/519539-5d80...   \n",
            "4  https://static.b24.co/fotos/xlarge/581213-a620...   \n",
            "\n",
            "                                            image 11  \\\n",
            "0  https://static.b24.co/fotos/xlarge/580125-8a26...   \n",
            "1  https://static.b24.co/fotos/xlarge/578672-bfc3...   \n",
            "2  https://static.b24.co/fotos/xlarge/578731-d172...   \n",
            "3  https://static.b24.co/fotos/xlarge/519539-d1c2...   \n",
            "4  https://static.b24.co/fotos/xlarge/581213-6bd1...   \n",
            "\n",
            "                                            image 12  \\\n",
            "0  https://static.b24.co/fotos/xlarge/580125-a636...   \n",
            "1  https://static.b24.co/fotos/xlarge/578672-8857...   \n",
            "2  https://static.b24.co/fotos/xlarge/578731-6ce7...   \n",
            "3  https://static.b24.co/fotos/xlarge/519539-a7f7...   \n",
            "4  https://static.b24.co/fotos/xlarge/581213-34a8...   \n",
            "\n",
            "                                            image 13  \n",
            "0  https://static.b24.co/fotos/xlarge/580125-e6a2...  \n",
            "1  https://static.b24.co/fotos/xlarge/578672-1b8b...  \n",
            "2  https://static.b24.co/fotos/xlarge/578731-53e4...  \n",
            "3  https://static.b24.co/fotos/xlarge/519539-e4a1...  \n",
            "4  https://static.b24.co/fotos/xlarge/581213-dd9e...  \n",
            "\n",
            "[5 rows x 1188 columns]\n"
          ]
        }
      ]
    },
    {
      "cell_type": "code",
      "source": [
        "print(boatsDF.shape[0])\n",
        "print(boatsDF.shape[1])"
      ],
      "metadata": {
        "colab": {
          "base_uri": "https://localhost:8080/"
        },
        "id": "LKCeh2ACON_C",
        "outputId": "096b5a83-4616-4a19-c860-55c97eb6a5c0"
      },
      "execution_count": null,
      "outputs": [
        {
          "output_type": "stream",
          "name": "stdout",
          "text": [
            "27393\n",
            "1188\n"
          ]
        }
      ]
    },
    {
      "cell_type": "markdown",
      "source": [
        "# Drop Duplicates"
      ],
      "metadata": {
        "id": "_GrjpzrQKCPS"
      }
    },
    {
      "cell_type": "code",
      "source": [
        "boatsDF = boatsDF.drop_duplicates(subset=['Year Built', 'Price', 'Length x Beam', 'Draught'], keep='first')\n",
        "boatsDF = boatsDF.sort_values(by=['Year Built', 'Price', 'Length x Beam', 'Draught'])"
      ],
      "metadata": {
        "id": "-FU7bDLvJN5z"
      },
      "execution_count": null,
      "outputs": []
    },
    {
      "cell_type": "markdown",
      "source": [
        "# Remove Incomplete Samples"
      ],
      "metadata": {
        "id": "sbzegPQFPHp_"
      }
    },
    {
      "cell_type": "code",
      "source": [
        "# Remove Samples without a Price\n",
        "boatsDF = boatsDF.dropna(subset='Price')"
      ],
      "metadata": {
        "id": "QErvn5eJPiEz"
      },
      "execution_count": null,
      "outputs": []
    },
    {
      "cell_type": "markdown",
      "source": [
        "# Remove Non Boats"
      ],
      "metadata": {
        "id": "6Mc5BhNuMGB9"
      }
    },
    {
      "cell_type": "code",
      "source": [
        "# Make the string representation of the boat categories a list\n",
        "boatsDF['Categories'] = boatsDF['Categories'].apply(ast.literal_eval)\n",
        "\n",
        "# Get a set of all possible categories\n",
        "categoriesList = boatsDF['Categories'].tolist()\n",
        "uniqueCategories = list(set(value for sublist in categoriesList for value in sublist))\n",
        "print(uniqueCategories)\n",
        "\n",
        "# Non-Boat categories\n",
        "equipmentCategories = [' Mooring Line', ' Buoy', 'Single Axle', 'Fittings', 'Port Trailer', ' Outdoor Storage', ' Floating Dock', 'Boat Engine', 'Engine Accessories', ' Storage Space',\n",
        "                       'Storage Trailer', 'On-Board Electricity', 'Safety', 'Spare Part', 'Equipment', 'Twin Axle', 'Trailer', 'Triple Axle', ' Water Ski', ' Wakeboard/Wakesurf',\n",
        "                       ' Fixed Dock', 'Berth']\n",
        "boatsDF = boatsDF[~boatsDF['Categories'].apply(lambda categories: any(category in equipmentCategories for category in categories))]\n",
        "\n",
        "# Commercial Vessels and Houses\n",
        "nonPriceableBoats = [' Fishing Boat', ' Trawler', ' Boathouse', ' Floating House', ' Houseboat']\n",
        "boatsDF = boatsDF[~boatsDF['Categories'].apply(lambda categories: any(category in nonPriceableBoats for category in categories))]\n",
        "\n",
        "# Inflatable Boats and Miscellaneous\n",
        "miscellaneousBoats = [' Pedalo', 'Inflatable Boat' , ' Foldable Inflatable Boat', ' Rowing Boat', 'Display Model', ' Canoe']\n",
        "boatsDF = boatsDF[~boatsDF['Categories'].apply(lambda categories: any(category in miscellaneousBoats for category in categories))]"
      ],
      "metadata": {
        "colab": {
          "base_uri": "https://localhost:8080/"
        },
        "id": "ku0bqMLXMEa9",
        "outputId": "222fbb0a-058b-4118-8e3e-ca111b41fcd6"
      },
      "execution_count": null,
      "outputs": [
        {
          "output_type": "stream",
          "name": "stdout",
          "text": [
            "[' Runabout', ' Storage Space', ' Classic Power Boat', ' Pedalo', ' Rowing Boat', ' Centre cockpit', ' Offshore Boat', ' Boathouse', ' Sloep', ' Center Console', 'Inflatable Boat', ' Sailing Superyacht', ' Superyacht', 'Used Boat', ' Port Trailer', 'Trailer', ' Twin Axle', ' Motor Yacht', ' Water Ski', ' Dolphins', ' Classic Sailing Yacht', ' Keelboat', 'Equipment', ' Sails', ' On-Board Electricity', ' Storage Trailer', ' Fixed Dock', 'Boat Engine', ' Safety', ' Utility Boat', ' Pontoon Boat', ' Outdoor Storage', ' Flybridge', ' Daysailer', ' Spare Part', ' Canoe', ' Floating Dock', ' Passenger Ship', 'Berth', ' Bowrider', ' Wakeboard/Wakesurf', ' Regatta Boat', ' Mooring Line', ' Pilothouse', 'New Boat on Order', ' Foldable Inflatable Boat', ' Outboard', ' Sport Boat', ' Inboard', ' Buoy', ' Other', ' Sailing Dinghy', ' Houseboat', ' Single Axle', ' Motorsailer', ' Cabin Cruiser', 'Power Boat', ' RIB', ' Personal Water Craft', ' Deck Boat', 'Small Boat', ' Hardtop', ' Flat Bottom Boat', ' Engine Accessories', ' Deck Saloon', 'New Boat from Stock', ' Sailing Yacht', ' Trawler', ' Gulet', ' Cruising Dinghy', ' Ketch', ' Dinghy', 'Display Model', ' Cruising Yacht', ' Floating House', ' Trimaran', ' Triple Axle', ' Fittings', ' Fishing Boat', ' Waterski/Wake', 'New boat preordered', ' Power Catamaran', ' Catamaran']\n"
          ]
        }
      ]
    },
    {
      "cell_type": "code",
      "source": [
        "categoriesList = boatsDF['Categories'].tolist()\n",
        "uniqueCategories = list(set(value for sublist in categoriesList for value in sublist))\n",
        "print(uniqueCategories)"
      ],
      "metadata": {
        "colab": {
          "base_uri": "https://localhost:8080/"
        },
        "id": "4zQIsnXDUvoq",
        "outputId": "4b289349-79c0-4115-c73b-c4e6790e9961"
      },
      "execution_count": null,
      "outputs": [
        {
          "output_type": "stream",
          "name": "stdout",
          "text": [
            "[' Runabout', ' Sailing Yacht', ' Sport Boat', ' Classic Power Boat', ' Utility Boat', ' Gulet', ' Pontoon Boat', ' Centre cockpit', ' Flybridge', ' Offshore Boat', ' Sailing Dinghy', ' Sloep', ' Cruising Dinghy', ' Ketch', ' Motorsailer', ' Cabin Cruiser', ' Daysailer', ' Dinghy', 'Power Boat', ' Cruising Yacht', ' Center Console', ' Sailing Superyacht', ' Superyacht', 'Used Boat', ' RIB', ' Pilothouse', ' Passenger Ship', ' Motor Yacht', ' Trimaran', ' Personal Water Craft', ' Deck Boat', 'Small Boat', ' Hardtop', ' Flat Bottom Boat', ' Bowrider', ' Classic Sailing Yacht', ' Regatta Boat', 'New boat preordered', ' Power Catamaran', ' Deck Saloon', ' Keelboat', 'New Boat from Stock', ' Catamaran', 'New Boat on Order']\n"
          ]
        }
      ]
    },
    {
      "cell_type": "markdown",
      "source": [
        "# Drop Variables"
      ],
      "metadata": {
        "id": "ZAOf97u1KQRr"
      }
    },
    {
      "cell_type": "code",
      "source": [
        "#Get Columns\n",
        "columnNames = boatsDF.columns\n",
        "\n",
        "#Remove Columns with less than 200 non NaN values (Approx. 1 in 100 boats need to have the feature)\n",
        "for column in columnNames:\n",
        "    numberValidObservations = boatsDF[column].notna().sum()\n",
        "    if numberValidObservations < 200:\n",
        "      boatsDF = boatsDF.drop(column, axis=1)\n",
        "\n",
        "#Remove Original Price column\n",
        "boatsDF = boatsDF.drop('Original price', axis=1)\n",
        "\n",
        "#Get Columns\n",
        "columnNames = boatsDF.columns"
      ],
      "metadata": {
        "id": "NjV4HEqHcyk3"
      },
      "execution_count": null,
      "outputs": []
    },
    {
      "cell_type": "markdown",
      "source": [
        "# Rename Columns"
      ],
      "metadata": {
        "id": "cFsC7EBLXL4F"
      }
    },
    {
      "cell_type": "code",
      "source": [
        "boatsDF = boatsDF.rename(columns={'TAXES PAID': 'Tax Description'})\n",
        "boatsDF = boatsDF.rename(columns={'Year Built': 'Age'})"
      ],
      "metadata": {
        "id": "uLPLA0d1XQot"
      },
      "execution_count": null,
      "outputs": []
    },
    {
      "cell_type": "markdown",
      "source": [
        "# Column Cleaning\n",
        "\n"
      ],
      "metadata": {
        "id": "NmA-U49zX_Cd"
      }
    },
    {
      "cell_type": "code",
      "source": [
        "boatsDF['Price'] = boatsDF['Price'].str.replace('\\D', '', regex=True).astype(int)\n",
        "boatsDF['Age'] = boatsDF['Age'].astype('Int64')\n",
        "boatsDF['Age'] = currentYear - boatsDF['Age']\n",
        "boatsDF.loc[boatsDF['Age'] == 2024, 'Age'] = np.nan"
      ],
      "metadata": {
        "id": "3H1IB8ViYH6O"
      },
      "execution_count": null,
      "outputs": []
    },
    {
      "cell_type": "markdown",
      "source": [
        "# Column Mapping"
      ],
      "metadata": {
        "id": "c1M3P5rkR0VE"
      }
    },
    {
      "cell_type": "code",
      "source": [
        "#Make a linear mapping for the condition column\n",
        "conditionMap = {\n",
        "    'damaged': 1,\n",
        "    'in need of repair': 2,\n",
        "    'used': 3,\n",
        "    'fair condition': 4,\n",
        "    'good condition': 5,\n",
        "    'very good condition': 6,\n",
        "    'as new': 7,\n",
        "    'new': 8\n",
        "}\n",
        "\n",
        "boatsDF['Condition'] = boatsDF['Condition'].str.strip().str.lower()\n",
        "boatsDF['Condition'] = boatsDF['Condition'].map(conditionMap)\n",
        "boatsDF['Condition'] = boatsDF['Condition'].astype('Int64')"
      ],
      "metadata": {
        "id": "OKG8AGHhRz60"
      },
      "execution_count": null,
      "outputs": []
    },
    {
      "cell_type": "code",
      "source": [
        "#Separate Length and Beam\n",
        "#Make Draught a float\n",
        "#Make Displacement an int\n",
        "\n",
        "boatsDF['Length'] = boatsDF['Length x Beam'].str.extract(r'(\\d+\\.\\d+)', expand=True)\n",
        "boatsDF['Beam'] = boatsDF['Length x Beam'].str.extract(r'.*?\\d+\\.\\d+\\D+(\\d+\\.\\d+)', expand=True)\n",
        "boatsDF['Draught'] = boatsDF['Draught'].str.extract(r'(\\d+\\.\\d+)')\n",
        "boatsDF['Displacement'] = boatsDF['Displacement'].str.replace(\"'\", \"\").str.extract('(\\d+)')\n",
        "\n",
        "boatsDF['Length'] = boatsDF['Length'].astype(float)\n",
        "boatsDF['Beam'] = boatsDF['Beam'].astype(float)\n",
        "boatsDF['Draught'] = boatsDF['Draught'].astype(float)\n",
        "boatsDF['Displacement'] = boatsDF['Displacement'].astype('Int64')\n",
        "\n",
        "#Drop the Length x Beam column\n",
        "boatsDF.drop('Length x Beam', axis=1, inplace=True)\n",
        "\n",
        "#Drop the Views, favourites, ID and listings column\n",
        "boatsDF.drop('Views, favourites, ID and listings', axis=1, inplace=True)\n",
        "\n",
        "#Drop the URL column\n",
        "boatsDF.drop('URL', axis=1, inplace=True)"
      ],
      "metadata": {
        "id": "DiIFQvFpokTy"
      },
      "execution_count": null,
      "outputs": []
    },
    {
      "cell_type": "code",
      "source": [
        "#Make two new columns based on the Tax Description column\n",
        "\n",
        "# Function to check if it possible to negotiate on the price\n",
        "def check_basis_for_negotiation(text):\n",
        "    if pd.isnull(text):\n",
        "        return 0\n",
        "    return 1 if 'Basis for Negotiation' in text else 0\n",
        "\n",
        "# Function to check if taxes are paid\n",
        "def check_taxes_paid(text):\n",
        "    if pd.isnull(text):\n",
        "        return 0\n",
        "    phrases_indicating_taxes_paid = ['incl. VAT', 'EU taxes paid', 'incl. 8.1% Swiss VAT']\n",
        "    return 1 if any(phrase in text for phrase in phrases_indicating_taxes_paid) else 0\n",
        "\n",
        "# Apply these functions to create new columns\n",
        "boatsDF['Negotiation Possible'] = boatsDF['Tax Description'].apply(check_basis_for_negotiation)\n",
        "boatsDF['Taxes Paid'] = boatsDF['Tax Description'].apply(check_taxes_paid)\n",
        "\n",
        "# Drop the Tax Description column\n",
        "boatsDF.drop('Tax Description', axis=1, inplace=True)"
      ],
      "metadata": {
        "id": "KpWYANzlTVLI"
      },
      "execution_count": null,
      "outputs": []
    },
    {
      "cell_type": "code",
      "source": [
        "# Create dummy variables for CE Design Category\n",
        "designCategoryDummies = pd.get_dummies(boatsDF['CE Design Category'], prefix='CE Design Category', dummy_na=True)\n",
        "boatsDF = pd.concat([boatsDF, designCategoryDummies], axis=1)\n",
        "\n",
        "# Drop the CE Design Category column\n",
        "boatsDF.drop('CE Design Category', axis=1, inplace=True)"
      ],
      "metadata": {
        "id": "-l57q8CIlgwI"
      },
      "execution_count": null,
      "outputs": []
    },
    {
      "cell_type": "code",
      "source": [
        "# Create dummy variables for Hull Type\n",
        "hullTypeDummies = pd.get_dummies(boatsDF['Hull Type'], prefix='Hull Type', dummy_na=True)\n",
        "boatsDF = pd.concat([boatsDF, hullTypeDummies], axis=1)\n",
        "\n",
        "# Drop the Hull Type column\n",
        "boatsDF.drop('Hull Type', axis=1, inplace=True)"
      ],
      "metadata": {
        "id": "kQb5bicKne9w"
      },
      "execution_count": null,
      "outputs": []
    },
    {
      "cell_type": "code",
      "source": [
        "# Create dummy variables for Material\n",
        "materialDummies = pd.get_dummies(boatsDF['Material'], prefix='Material', dummy_na=True)\n",
        "boatsDF = pd.concat([boatsDF, materialDummies], axis=1)\n",
        "\n",
        "# Drop the Hull Type column\n",
        "boatsDF.drop('Material', axis=1, inplace=True)"
      ],
      "metadata": {
        "id": "OcZretZ4oBDN"
      },
      "execution_count": null,
      "outputs": []
    },
    {
      "cell_type": "code",
      "source": [
        "# Clean Certified No. of Persons column\n",
        "boatsDF['Certified No. of Persons'] = boatsDF['Certified No. of Persons'].str.extract('(\\d+)').astype('Int64')\n",
        "\n",
        "# Clean Headroom column\n",
        "boatsDF['Headroom'] = boatsDF['Headroom'].str.extract('(\\d+)').astype('Int64')\n",
        "\n",
        "# Clean No. of Cabins column\n",
        "boatsDF['No. of Cabins'] = boatsDF['No. of Cabins'].str.extract('(\\d+)').astype('Int64')\n",
        "\n",
        "# Clean No. of Bathrooms column\n",
        "boatsDF['No. of Bathrooms'] = boatsDF['No. of Bathrooms'].str.extract('(\\d+)').astype('Int64')\n",
        "\n",
        "# Clean No. of Berths column\n",
        "boatsDF['No. of berths'] = boatsDF['No. of berths'].str.extract('(\\d+)').astype('Int64')"
      ],
      "metadata": {
        "id": "O7oI340vnKPg"
      },
      "execution_count": null,
      "outputs": []
    },
    {
      "cell_type": "code",
      "source": [
        "# Drop the Fresh water tank column\n",
        "boatsDF.drop('Fresh water tank', axis=1, inplace=True)\n",
        "\n",
        "# Drop the Holding Tank column\n",
        "boatsDF.drop('Holding Tank', axis=1, inplace=True)\n",
        "\n",
        "# Drop the Propulsion column\n",
        "boatsDF.drop('Propulsion', axis=1, inplace=True)\n",
        "\n",
        "# Drop the Engine column\n",
        "boatsDF.drop('Engine', axis=1, inplace=True)\n",
        "\n",
        "# Drop the VAT column\n",
        "boatsDF.drop('VAT', axis=1, inplace=True)\n",
        "\n",
        "# Drop the Boat Name column\n",
        "boatsDF.drop('Boat Name', axis=1, inplace=True)\n",
        "\n",
        "# Drop the Weight column (remember, we have Displacement)\n",
        "boatsDF.drop('Weight', axis=1, inplace=True)\n",
        "\n",
        "# Drop the Cruising Speed, Max Speed, Ballast and Engine Year column (too many NaN values)\n",
        "boatsDF.drop('Cruising Speed', axis=1, inplace=True)\n",
        "boatsDF.drop('Max speed', axis=1, inplace=True)\n",
        "boatsDF.drop('Ballast', axis=1, inplace=True)\n",
        "boatsDF.drop('Engine Year', axis=1, inplace=True)\n",
        "\n",
        "# Drop the Hull Color column\n",
        "boatsDF.drop('Hull Color', axis=1, inplace=True)\n",
        "\n",
        "# Drop the iPod interface column\n",
        "boatsDF.drop('iPod Interface', axis=1, inplace=True)"
      ],
      "metadata": {
        "id": "xmZ0mHgLqXGX"
      },
      "execution_count": null,
      "outputs": []
    },
    {
      "cell_type": "code",
      "source": [
        "# Distinguish between Sailing Vessels and Motorized Vessels\n",
        "boatCategoryMap = {\n",
        "    'Sailing Vessel': ['Ketch', 'Catamaran', 'Sailing Dinghy', 'Daysailer', 'Sailing Yacht',  'Classic Sailing Yacht', 'Sailing Superyacht',\n",
        "                        'Regatta Boat', 'Trimaran', 'Motorsailer', 'Gulet', 'Dinghy', 'Cruising Dinghy', 'Keelboat', 'Sloep'],\n",
        "    'Motorized Vessel': ['Superyacht', 'Pilothouse', 'Flybridge', 'Deck Boat', 'Passenger Ship', 'Motor Yacht', 'Power Catamaran',\n",
        "                          'Classic Power Boat', 'Offshore Boat', 'Utility Boat', 'Power Boat', 'Runabout', 'Bowrider', 'Personal Water Craft',\n",
        "                          'RIB', 'Center Console', 'Cabin Cruiser', 'Cruising Yacht', 'Deck Saloon', 'Pontoon Boat', 'Sport Boat', 'Flat Bottom Boat',\n",
        "                          'Hardtop', 'Centre Cockpit']\n",
        "}\n",
        "\n",
        "# Function to make the dummy columns\n",
        "def addCategoryColumns(df, boatCategoryMap):\n",
        "    for categoryName, categoryList in boatCategoryMap.items():\n",
        "        # Trim whitespaces and adjust for case sensitivity in comparison\n",
        "        df[categoryName] = df['Categories'].apply(\n",
        "            lambda x: 0 if x is None else 1 if any(item.strip().lower() in [cat.lower() for cat in categoryList] for item in x) else 0\n",
        "        )\n",
        "    return df\n",
        "\n",
        "boatsDF = addCategoryColumns(boatsDF, boatCategoryMap)\n",
        "\n",
        "# Drop the Categories column\n",
        "boatsDF.drop('Categories', axis=1, inplace=True)\n",
        "\n",
        "# print((boatsDF['Sailing Vessel'] == 1).sum())\n",
        "# print((boatsDF['Motorized Vessel'] == 1).sum())\n",
        "# print(boatsDF[['Sailing Vessel', 'Motorized Vessel']].isna().all(axis=1).sum())"
      ],
      "metadata": {
        "id": "Jkdz5PNbH_PY"
      },
      "execution_count": null,
      "outputs": []
    },
    {
      "cell_type": "code",
      "source": [
        "#Make 1-0 dummy columns for the equipment columns and make them int type\n",
        "columnsToUpdate = [\n",
        "    \"Shore Connection\", \"Battery\", \"Battery Charger\", \"Fire Extinguisher\", \"Anchor\",\n",
        "    \"Bow Anchor Capstan\", \"Bilge Pump\", \"Navigation Lights\", \"Bow Thruster\", \"Electric Toilet\",\n",
        "    \"Water Pressure System\", \"Warm Water System\", \"Board Computer\", \"Compass\", \"GPS\",\n",
        "    \"Autopilot\", \"VHF Radio\", \"Chartplotter\", \"Depth Instrument\", \"Speed Instrument\",\n",
        "    \"Stove\", \"Sink\", \"Fridge\", \"Gas Stove\", \"Full Cover\", \"Cockpit Cover\", \"Bimini Top\",\n",
        "    \"Swim Ladder\", \"Bathing plaftorm fix\", \"Deck Shower\", \"Heating\", \"Radio\", \"CD Player\",\n",
        "    \"Cockpit Speakers\", \"Cockpit Table\", \"Teak Cockpit\", \"Underwater Paint\", \"Inverter\", \"Bluetooth Connector\",\n",
        "    'Radar Reflector', 'Trailer', 'Generator', 'Electric winch', 'Trim Tabs', 'Fishfinder', 'Radar', 'Cool Box',\n",
        "    'DVB-T Antenna', 'Wetbar', 'Teak Deck', 'No. of Bathrooms', 'Alarm system', 'Fire extinguisher system', 'Watermaker',\n",
        "    'Deck washer', 'Solar panels', 'Ceran Stove', 'Microwave', 'Oven', 'Freezer', 'Electric Stove', 'Extractor Hood', 'Dishwasher',\n",
        "    'Air Conditioning', 'MP3 Player', 'BBQ-Grill', 'Gas Detector', 'EPIRB', 'Flybridge Cover', 'Winter Cover', 'Gangway', 'TV',\n",
        "    'Satellite Antenna', 'Stern Anchor Capstan', 'Life Raft', 'Washing Machine', 'AIS', 'MOB System', 'Icemaker', 'DVD Player',\n",
        "    'Underwater Lights', 'Windvane self-steering', 'Bathing platform electric', 'Stern Thruster', 'Electric Gangway', 'Davits',\n",
        "    'Wind Instrument', 'Sprayhood', 'Bathing platform manual']\n",
        "\n",
        "boatsDF[columnsToUpdate] = boatsDF[columnsToUpdate].fillna(0).astype(int)"
      ],
      "metadata": {
        "id": "tQQSIpLQWPW-"
      },
      "execution_count": null,
      "outputs": []
    },
    {
      "cell_type": "code",
      "source": [
        "# Make a Small Equipment Index column\n",
        "smallEquipmentColumns = [\"Fire Extinguisher\", \"Anchor\", \"Navigation Lights\", \"Compass\", \"Depth Instrument\", \"Speed Instrument\", \"Full Cover\", \"Cockpit Cover\", \"Bimini Top\", \"Swim Ladder\", \"Deck Shower\",\n",
        "                         \"Radio\", \"CD Player\", \"Cockpit Speakers\", \"Cockpit Table\", \"Underwater Paint\", \"Bluetooth Connector\", 'Radar Reflector', 'Cool Box', 'DVB-T Antenna', 'MP3 Player', 'BBQ-Grill',\n",
        "                         'Gas Detector', 'EPIRB', 'AIS', 'MOB System', 'DVD Player', 'Wind Instrument', 'Sprayhood']\n",
        "boatsDF['Small Equipment Index'] = boatsDF[smallEquipmentColumns].sum(axis=1)\n",
        "\n",
        "# Drop the original Small Equipment columns\n",
        "boatsDF.drop(smallEquipmentColumns, axis=1, inplace=True)\n",
        "\n",
        "# Make a Big Equipment Index column\n",
        "bigEquipmentColumns = [\"Shore Connection\", \"Battery\", \"Battery Charger\", \"Bow Anchor Capstan\", \"Bow Thruster\", \"Electric Toilet\", \"Water Pressure System\", \"Warm Water System\", \"Board Computer\", \"GPS\", \"Autopilot\", \"VHF Radio\",\n",
        "                       \"Chartplotter\", \"Fridge\", \"Bilge Pump\", \"Stove\", \"Sink\", \"Gas Stove\", \"Bathing plaftorm fix\", \"Heating\", \"Teak Cockpit\", \"Inverter\", 'Trailer', 'Generator', 'Electric winch', 'Trim Tabs', 'Fishfinder',\n",
        "                       'Radar', 'Wetbar', 'Teak Deck', 'Alarm system', 'Fire extinguisher system', 'Watermaker', 'Deck washer', 'Solar panels', 'Ceran Stove', 'Microwave', 'Oven', 'Freezer', 'Electric Stove', 'Extractor Hood',\n",
        "                       'Dishwasher', 'Air Conditioning', 'Flybridge Cover', 'Winter Cover', 'Gangway', 'TV', 'Satellite Antenna', 'Stern Anchor Capstan', 'Life Raft', 'Washing Machine', 'Icemaker', 'Underwater Lights',\n",
        "                       'Windvane self-steering', 'Bathing platform electric', 'Stern Thruster', 'Electric Gangway', 'Davits', 'Bathing platform manual']\n",
        "boatsDF['Big Equipment Index'] = boatsDF[bigEquipmentColumns].sum(axis=1)\n",
        "\n",
        "# Drop the original Big Equipment columns\n",
        "boatsDF.drop(bigEquipmentColumns, axis=1, inplace=True)\n",
        "\n",
        "# Make a column that is equal to 1 if both equipment columns are 0 and 0 otherwise\n",
        "boatsDF['Equipment Not Listed'] = ((boatsDF['Small Equipment Index'] + boatsDF['Big Equipment Index']) == 0).astype(int)"
      ],
      "metadata": {
        "id": "LKqpUT4fmcsy",
        "colab": {
          "base_uri": "https://localhost:8080/"
        },
        "outputId": "25efc647-ce16-44b4-cad6-0b5b10e8a27e"
      },
      "execution_count": null,
      "outputs": [
        {
          "output_type": "stream",
          "name": "stderr",
          "text": [
            "<ipython-input-146-cdfb56d758a7>:5: PerformanceWarning: DataFrame is highly fragmented.  This is usually the result of calling `frame.insert` many times, which has poor performance.  Consider joining all columns at once using pd.concat(axis=1) instead. To get a de-fragmented frame, use `newframe = frame.copy()`\n",
            "  boatsDF['Small Equipment Index'] = boatsDF[smallEquipmentColumns].sum(axis=1)\n"
          ]
        }
      ]
    },
    {
      "cell_type": "code",
      "source": [
        "# Clean Engine Performance column\n",
        "boatsDF['Horsepower'] = boatsDF['Engine Performance'].str.extract(r'(\\d+\\.?\\d*)\\s*x?\\s*HP')[0].astype(float)\n",
        "boatsDF['Engine Count'] = boatsDF['Engine Performance'].str.extract(r'(\\d+)\\s*x')[0].fillna(1).astype(int)\n",
        "boatsDF['Total Horsepower'] = boatsDF['Horsepower'] * boatsDF['Engine Count']\n",
        "\n",
        "# Drop the Engine Performance, Horsepower and Engine Count columns\n",
        "boatsDF.drop('Engine Performance', axis=1, inplace=True)\n",
        "boatsDF.drop('Horsepower', axis=1, inplace=True)\n",
        "boatsDF.drop('Engine Count', axis=1, inplace=True)"
      ],
      "metadata": {
        "id": "RP4v-ZEBpyfJ"
      },
      "execution_count": null,
      "outputs": []
    },
    {
      "cell_type": "code",
      "source": [
        "# Make a Fuel Capacity column\n",
        "boatsDF['Fuel Capacity'] = boatsDF['Fuel Type'].str.extract(r\"(\\d{1,3}(?:'\\d{3})*|\\d+)\\s*l\")[0].str.replace(\"'\", \"\").astype('Int64')\n",
        "\n",
        "# Drop the Fuel Type column\n",
        "boatsDF.drop('Fuel Type', axis=1, inplace=True)"
      ],
      "metadata": {
        "id": "Du8kdWsPrxIY"
      },
      "execution_count": null,
      "outputs": []
    },
    {
      "cell_type": "code",
      "source": [
        "# Clean the Engine Hours column\n",
        "boatsDF['Engine Hours'] = boatsDF['Engine Hours'].str.replace(\"'\", \"\").str.extract(r'(\\d+)')[0].astype('Int64')"
      ],
      "metadata": {
        "id": "UGnrI755slxx"
      },
      "execution_count": null,
      "outputs": []
    },
    {
      "cell_type": "code",
      "source": [
        "# Make a Country column\n",
        "boatsDF['Country'] = boatsDF['Location'].str.extract(r'^(.+?)(?:\\s»|$)')\n",
        "\n",
        "# Drop the Location column\n",
        "boatsDF.drop('Location', axis=1, inplace=True)"
      ],
      "metadata": {
        "id": "3EpfcXtEs45f"
      },
      "execution_count": null,
      "outputs": []
    },
    {
      "cell_type": "code",
      "source": [
        "# Make a Sail Area columns\n",
        "boatsDF['Mainsail Area'] = boatsDF['Mainsail'].str.replace(\"'\", \"\").str.extract(r'(\\d+\\.?\\d*)')[0].astype('Int64')\n",
        "boatsDF['Jib Area'] = boatsDF['Jib'].str.replace(\"'\", \"\").str.extract(r'(\\d+\\.?\\d*)')[0].astype('Int64')\n",
        "boatsDF['Genoa Area'] = boatsDF['Genoa'].str.replace(\"'\", \"\").str.extract(r'(\\d+\\.?\\d*)')[0].astype('Int64')\n",
        "boatsDF['Spinnaker Area'] = boatsDF['Spinnaker'].str.replace(\"'\", \"\").str.extract(r'(\\d+\\.?\\d*)')[0].astype('Int64')\n",
        "boatsDF['Gennaker Area'] = boatsDF['Gennaker'].str.replace(\"'\", \"\").str.extract(r'(\\d+\\.?\\d*)')[0].astype('Int64')\n",
        "\n",
        "# Drop the Sail columns\n",
        "boatsDF.drop('Mainsail', axis=1, inplace=True)\n",
        "boatsDF.drop('Jib', axis=1, inplace=True)\n",
        "boatsDF.drop('Genoa', axis=1, inplace=True)\n",
        "boatsDF.drop('Spinnaker', axis=1, inplace=True)\n",
        "boatsDF.drop('Gennaker', axis=1, inplace=True)"
      ],
      "metadata": {
        "id": "YQDNFpF6vNy_"
      },
      "execution_count": null,
      "outputs": []
    },
    {
      "cell_type": "code",
      "source": [
        "# Clean the Showers column\n",
        "boatsDF['Showers'] = boatsDF['Showers'].str.extract('(\\d+)').astype('Int64')\n",
        "\n",
        "# Clean the Toilets column\n",
        "boatsDF['Toilets'] = boatsDF['Toilets'].str.extract('(\\d+)').astype('Int64')"
      ],
      "metadata": {
        "id": "XBVrSpsjUoZq"
      },
      "execution_count": null,
      "outputs": []
    },
    {
      "cell_type": "code",
      "source": [
        "# Create dummy variables for Steering\n",
        "steeringDummies = pd.get_dummies(boatsDF['Steering'], prefix='Steering', dummy_na=True)\n",
        "boatsDF = pd.concat([boatsDF, steeringDummies], axis=1)\n",
        "\n",
        "# Drop the Steering column\n",
        "boatsDF.drop('Steering', axis=1, inplace=True)"
      ],
      "metadata": {
        "id": "aebvWwh9wASA"
      },
      "execution_count": null,
      "outputs": []
    },
    {
      "cell_type": "code",
      "source": [
        "# Create dummy variables for Keel Type\n",
        "keelTypeDummies = pd.get_dummies(boatsDF['Keel Type'], prefix='Keel Type', dummy_na=True)\n",
        "boatsDF = pd.concat([boatsDF, keelTypeDummies], axis=1)\n",
        "\n",
        "# Drop the Keel Type column\n",
        "boatsDF.drop('Keel Type', axis=1, inplace=True)"
      ],
      "metadata": {
        "id": "J45NfE1lwdWg"
      },
      "execution_count": null,
      "outputs": []
    },
    {
      "cell_type": "code",
      "source": [
        "# Drop the Description column\n",
        "boatsDF.drop('Description', axis=1, inplace=True)"
      ],
      "metadata": {
        "id": "pahfAqjRXrdx"
      },
      "execution_count": null,
      "outputs": []
    },
    {
      "cell_type": "code",
      "source": [
        "# Drop the Key and ID column\n",
        "boatsDF.drop('ID', axis=1, inplace=True)\n",
        "boatsDF.drop('Key', axis=1, inplace=True)"
      ],
      "metadata": {
        "id": "8F2UVYxpZaD3"
      },
      "execution_count": null,
      "outputs": []
    },
    {
      "cell_type": "markdown",
      "source": [
        "# Removing Bad Outliers\n"
      ],
      "metadata": {
        "id": "r3y3wJLRa7i2"
      }
    },
    {
      "cell_type": "code",
      "source": [
        "# Set Displacement larger than 50 mil equal to NaN\n",
        "boatsDF.loc[boatsDF['Displacement'] > 50000000, 'Displacement'] = np.nan\n",
        "\n",
        "# Set No. of berths larger than 20 equal to NaN\n",
        "boatsDF.loc[boatsDF['No. of berths'] > 20, 'No. of berths'] = np.nan\n",
        "\n",
        "# Set Headroom larger than 300 equal to NaN\n",
        "boatsDF.loc[boatsDF['Headroom'] > 300, 'Headroom'] = np.nan\n",
        "\n",
        "# Set Certified No. of Persons larger than 30 equal to NaN\n",
        "boatsDF.loc[boatsDF['Certified No. of Persons'] > 30, 'Certified No. of Persons'] = np.nan\n",
        "\n",
        "# Set Draught larger than 10 equal to NaN\n",
        "boatsDF.loc[boatsDF['Draught'] > 10, 'Draught'] = np.nan"
      ],
      "metadata": {
        "id": "YIL8FamabC7G"
      },
      "execution_count": null,
      "outputs": []
    },
    {
      "cell_type": "markdown",
      "source": [
        "# Smart Data Decisions"
      ],
      "metadata": {
        "id": "82TCfocFzrAd"
      }
    },
    {
      "cell_type": "code",
      "source": [
        "boatsDF = boatsDF[boatsDF['Price'] <= 1000000].copy()\n",
        "\n",
        "# Make a Ship Area column\n",
        "boatsDF['Ship Area'] = boatsDF['Length'] * boatsDF['Beam']\n",
        "\n",
        "# Drop samples for which Ship Area is not defined\n",
        "boatsDF = boatsDF.loc[boatsDF['Ship Area'].notna()]\n",
        "\n",
        "# Drop samples for which Age is not defined\n",
        "boatsDF = boatsDF.loc[boatsDF['Age'].notna()]"
      ],
      "metadata": {
        "id": "yxOIQ9-azxPb"
      },
      "execution_count": null,
      "outputs": []
    },
    {
      "cell_type": "markdown",
      "source": [
        "# Merge With Images"
      ],
      "metadata": {
        "id": "oQdhvMso5ay-"
      }
    },
    {
      "cell_type": "code",
      "source": [
        "imagesDF = pd.read_csv('image_features.csv', sep = ';')"
      ],
      "metadata": {
        "id": "XhbEKpkQ6DCO"
      },
      "execution_count": null,
      "outputs": []
    },
    {
      "cell_type": "code",
      "source": [
        "boatsDF = boatsDF[boatsDF['Price'] <= 500000]"
      ],
      "metadata": {
        "id": "dc3K68bm93HO"
      },
      "execution_count": null,
      "outputs": []
    },
    {
      "cell_type": "code",
      "source": [
        "boatsDF = boatsDF.reset_index(drop=True)\n",
        "boatsDF = pd.concat([boatsDF, imagesDF], axis=1)"
      ],
      "metadata": {
        "id": "9y2t6P8H-MpY"
      },
      "execution_count": null,
      "outputs": []
    },
    {
      "cell_type": "markdown",
      "source": [
        "# Remove Bad Location Row"
      ],
      "metadata": {
        "id": "KE3qHqxO5_YQ"
      }
    },
    {
      "cell_type": "code",
      "source": [
        "boatsDF = boatsDF[~(boatsDF['Country'] == 'Channel Islands, British Isles')]\n",
        "boatsDF['Country'][boatsDF['Country'] == 'Contact De Valk Loosdrecht'] = 'Netherlands'"
      ],
      "metadata": {
        "colab": {
          "base_uri": "https://localhost:8080/"
        },
        "id": "1tu5PfsX6fKY",
        "outputId": "3c8456a6-f669-4c06-be55-fb1c6d6cbf1a"
      },
      "execution_count": null,
      "outputs": [
        {
          "output_type": "stream",
          "name": "stderr",
          "text": [
            "<ipython-input-163-26e78f0d3129>:2: SettingWithCopyWarning: \n",
            "A value is trying to be set on a copy of a slice from a DataFrame\n",
            "\n",
            "See the caveats in the documentation: https://pandas.pydata.org/pandas-docs/stable/user_guide/indexing.html#returning-a-view-versus-a-copy\n",
            "  boatsDF['Country'][boatsDF['Country'] == 'Contact De Valk Loosdrecht'] = 'Netherlands'\n"
          ]
        }
      ]
    },
    {
      "cell_type": "markdown",
      "source": [
        "# Get Coordinates"
      ],
      "metadata": {
        "id": "OHEn4pC7tl9-"
      }
    },
    {
      "cell_type": "code",
      "source": [
        "countries = boatsDF['Country']\n",
        "countrySet = set(countries)\n",
        "geoDictionary = {key: key for key in countrySet}\n",
        "for country in countrySet:\n",
        "  geoCode = geocoder.osm(country)\n",
        "  if geoCode.ok:\n",
        "    geoDictionary[country] = {'latitude': geoCode.lat, 'longitude': geoCode.lng}\n",
        "  else:\n",
        "    geoDictionary[country] = 'Geocode lookup failed'"
      ],
      "metadata": {
        "id": "gEgjTROOtlHG"
      },
      "execution_count": null,
      "outputs": []
    },
    {
      "cell_type": "code",
      "source": [
        "def get_latitude(country):\n",
        "    return geoDictionary[country]['latitude'] if country in geoDictionary and 'latitude' in geoDictionary[country] else None\n",
        "\n",
        "def get_longitude(country):\n",
        "    return geoDictionary[country]['longitude'] if country in geoDictionary and 'longitude' in geoDictionary[country] else None\n",
        "\n",
        "boatsDF['Latitude'] = boatsDF['Country'].apply(get_latitude)\n",
        "boatsDF['Longitude'] = boatsDF['Country'].apply(get_longitude)\n",
        "\n",
        "boatsDF.drop('Country', axis=1, inplace=True)"
      ],
      "metadata": {
        "id": "fVd8GX5XtvAW"
      },
      "execution_count": null,
      "outputs": []
    },
    {
      "cell_type": "markdown",
      "source": [
        "# Save to CSV"
      ],
      "metadata": {
        "id": "6pQym0Vjw1vG"
      }
    },
    {
      "cell_type": "code",
      "source": [
        "# Reset the indexes\n",
        "boatsDF = boatsDF.reset_index(drop=True)\n",
        "\n",
        "# Write to CSV file\n",
        "boatsDF.to_csv(\"boatsDFinclNA.csv\", sep=\";\")"
      ],
      "metadata": {
        "id": "6RPmtV4Vg9cE"
      },
      "execution_count": null,
      "outputs": []
    }
  ]
}
